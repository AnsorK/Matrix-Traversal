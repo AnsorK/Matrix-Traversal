{
 "cells": [
  {
   "cell_type": "code",
   "execution_count": 8,
   "id": "28b40dcc",
   "metadata": {},
   "outputs": [
    {
     "name": "stdout",
     "output_type": "stream",
     "text": [
      "Orginal Matrix:\n",
      "\n",
      " 1  2  3  4  5 \n",
      " 6  7  8  9 10 \n",
      "11 12 13 14 15 \n",
      "16 17 18 19 20 \n",
      "21 22 23 24 25 \n"
     ]
    }
   ],
   "source": [
    "A = [[1, 2, 3, 4, 5],\n",
    "     [6, 7, 8, 9, 10],\n",
    "     [11, 12, 13, 14, 15],\n",
    "     [16, 17, 18, 19, 20],\n",
    "     [21, 22, 23, 24, 25]]\n",
    "\n",
    "n, m = len(A), len(A[0])\n",
    "\n",
    "print('Orginal Matrix:\\n')\n",
    "for a in A:\n",
    "    for i in a:\n",
    "        print(f'{i:>2}', end=' ')\n",
    "    print()    "
   ]
  },
  {
   "cell_type": "code",
   "execution_count": 9,
   "id": "fea2fd74",
   "metadata": {},
   "outputs": [
    {
     "name": "stdout",
     "output_type": "stream",
     "text": [
      "Column then row (Transpose):\n",
      "\n",
      " 1  6 11 16 21 \n",
      " 2  7 12 17 22 \n",
      " 3  8 13 18 23 \n",
      " 4  9 14 19 24 \n",
      " 5 10 15 20 25 \n"
     ]
    }
   ],
   "source": [
    "print('Column then row (Transpose):\\n')\n",
    "\n",
    "for i in range(m):\n",
    "    for j in range(n):\n",
    "        print(f'{A[j][i]:>2}', end=' ')\n",
    "    print()"
   ]
  }
 ],
 "metadata": {
  "kernelspec": {
   "display_name": "venv",
   "language": "python",
   "name": "python3"
  },
  "language_info": {
   "codemirror_mode": {
    "name": "ipython",
    "version": 3
   },
   "file_extension": ".py",
   "mimetype": "text/x-python",
   "name": "python",
   "nbconvert_exporter": "python",
   "pygments_lexer": "ipython3",
   "version": "3.13.4"
  }
 },
 "nbformat": 4,
 "nbformat_minor": 5
}
