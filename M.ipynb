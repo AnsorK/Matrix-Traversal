{
 "cells": [
  {
   "cell_type": "code",
   "execution_count": 14,
   "id": "28b40dcc",
   "metadata": {},
   "outputs": [
    {
     "name": "stdout",
     "output_type": "stream",
     "text": [
      "Orginal Matrix:\n",
      "\n",
      " 1  2  3  4  5 \n",
      " 6  7  8  9 10 \n",
      "11 12 13 14 15 \n",
      "16 17 18 19 20 \n",
      "21 22 23 24 25 \n",
      "\n"
     ]
    }
   ],
   "source": [
    "A = [[1, 2, 3, 4, 5],\n",
    "     [6, 7, 8, 9, 10],\n",
    "     [11, 12, 13, 14, 15],\n",
    "     [16, 17, 18, 19, 20],\n",
    "     [21, 22, 23, 24, 25]]\n",
    "\n",
    "m, n = len(A), len(A[0])\n",
    "\n",
    "def M():\n",
    "    print('Orginal Matrix:\\n')\n",
    "    for a in A:\n",
    "        for i in a:\n",
    "            print(f'{i:>2}', end=' ')\n",
    "        print()\n",
    "    print()\n",
    "\n",
    "M()"
   ]
  },
  {
   "cell_type": "code",
   "execution_count": 15,
   "id": "fea2fd74",
   "metadata": {},
   "outputs": [
    {
     "name": "stdout",
     "output_type": "stream",
     "text": [
      "Orginal Matrix:\n",
      "\n",
      " 1  2  3  4  5 \n",
      " 6  7  8  9 10 \n",
      "11 12 13 14 15 \n",
      "16 17 18 19 20 \n",
      "21 22 23 24 25 \n",
      "\n",
      "Column then row (Transpose):\n",
      "\n",
      " 1  6 11 16 21 \n",
      " 2  7 12 17 22 \n",
      " 3  8 13 18 23 \n",
      " 4  9 14 19 24 \n",
      " 5 10 15 20 25 \n"
     ]
    }
   ],
   "source": [
    "M()\n",
    "\n",
    "print('Column then row (Transpose):\\n')\n",
    "\n",
    "for i in range(n):\n",
    "    for j in range(m):\n",
    "        print(f'{A[j][i]:>2}', end=' ')\n",
    "    print()"
   ]
  },
  {
   "cell_type": "code",
   "execution_count": null,
   "id": "283ea408",
   "metadata": {},
   "outputs": [
    {
     "name": "stdout",
     "output_type": "stream",
     "text": [
      "Orginal Matrix:\n",
      "\n",
      " 1  2  3  4  5 \n",
      " 6  7  8  9 10 \n",
      "11 12 13 14 15 \n",
      "16 17 18 19 20 \n",
      "21 22 23 24 25 \n",
      "\n",
      "Spiral inwards (Clockwise):\n",
      "\n",
      "1 2 3 4 5 10 15 20 25 24 23 22 21 16 11 6 7 8 9 14 19 18 17 12 13 "
     ]
    }
   ],
   "source": [
    "M()\n",
    "\n",
    "print('Spiral inwards (Clockwise):\\n')\n",
    "\n",
    "top, bottom, left, right = 0, m - 1, 0, n - 1\n",
    "\n",
    "while left <= right or top <= bottom:\n",
    "    for i in range(left, right + 1):\n",
    "        print(A[top][i], end=' ')\n",
    "    top += 1\n",
    "\n",
    "    for i in range(top, bottom + 1):\n",
    "        print(A[i][right], end=' ')\n",
    "    right -= 1\n",
    "\n",
    "    for i in range(right, left - 1, -1):\n",
    "        print(A[bottom][i], end=' ')\n",
    "    bottom -= 1\n",
    "\n",
    "    for i in range(bottom, top - 1, -1):\n",
    "        print(A[i][left], end=' ')\n",
    "    left += 1"
   ]
  },
  {
   "cell_type": "code",
   "execution_count": null,
   "id": "e253b24d",
   "metadata": {},
   "outputs": [
    {
     "name": "stdout",
     "output_type": "stream",
     "text": [
      "Orginal Matrix:\n",
      "\n",
      " 1  2  3  4  5 \n",
      " 6  7  8  9 10 \n",
      "11 12 13 14 15 \n",
      "16 17 18 19 20 \n",
      "21 22 23 24 25 \n",
      "\n",
      "Spiral outwards (Clockwise):\n",
      "\n",
      "13 14 19 18 17 12 7 8 9 10 15 20 25 24 23 22 21 16 11 6 1 2 3 4 5 "
     ]
    }
   ],
   "source": [
    "M()\n",
    "\n",
    "print('Spiral outwards (Clockwise):\\n')\n",
    "\n",
    "dr, dc, i, count = [0, 1, 0, -1], [1, 0, -1, 0], 0, 0\n",
    "r, c, delta, flip = m // 2 if m & 1 else m // 2 - 1, n // 2 if n & 1 else n // 2 - 1, 1, False\n",
    "\n",
    "while count < 25:\n",
    "    for _ in range(delta):\n",
    "        print(A[r][c], end=' ')\n",
    "        r, c = r + dr[i], c + dc[i]\n",
    "        count += 1\n",
    "\n",
    "    i = (i + 1) % 4\n",
    "    delta += 1 if flip else 0\n",
    "    flip = not flip"
   ]
  },
  {
   "cell_type": "code",
   "execution_count": 58,
   "id": "4d7f9576",
   "metadata": {},
   "outputs": [
    {
     "name": "stdout",
     "output_type": "stream",
     "text": [
      "Orginal Matrix:\n",
      "\n",
      " 1  2  3  4  5 \n",
      " 6  7  8  9 10 \n",
      "11 12 13 14 15 \n",
      "16 17 18 19 20 \n",
      "21 22 23 24 25 \n",
      "\n",
      "Skip every even row\n",
      " 6  7  8  9 10 \n",
      "16 17 18 19 20 \n"
     ]
    }
   ],
   "source": [
    "M()\n",
    "\n",
    "print('Skip every even row')\n",
    "\n",
    "for i, a1 in enumerate(A):\n",
    "    if not i & 1:\n",
    "        continue\n",
    "\n",
    "    for a0 in a1:\n",
    "        print(f'{a0:>2}', end=' ')\n",
    "    print()\n"
   ]
  }
 ],
 "metadata": {
  "kernelspec": {
   "display_name": "venv",
   "language": "python",
   "name": "python3"
  },
  "language_info": {
   "codemirror_mode": {
    "name": "ipython",
    "version": 3
   },
   "file_extension": ".py",
   "mimetype": "text/x-python",
   "name": "python",
   "nbconvert_exporter": "python",
   "pygments_lexer": "ipython3",
   "version": "3.13.4"
  }
 },
 "nbformat": 4,
 "nbformat_minor": 5
}
